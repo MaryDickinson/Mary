{
 "cells": [
  {
   "cell_type": "code",
   "execution_count": null,
   "id": "0963d4ed-dbff-4e5a-af30-71e2252bdd04",
   "metadata": {},
   "outputs": [],
   "source": [
    "## Regression Script\n",
    "\n",
    "# Script Name: RegressionScript.ipynb\n",
    "# Purpose: Provide an example of a regression model\n",
    "# Author: K21014303\n",
    "# Date: Last edited 20/11/24\n"
   ]
  },
  {
   "cell_type": "code",
   "execution_count": 4,
   "id": "e51adeee-520f-4aa7-9431-54283325313c",
   "metadata": {},
   "outputs": [],
   "source": [
    "# Preprocessing \n",
    "from sklearn.preprocessing import (\n",
    "    StandardScaler, \n",
    "    MinMaxScaler, \n",
    "    RobustScaler, \n",
    "    LabelEncoder, \n",
    "    PowerTransformer\n",
    ")\n",
    "from sklearn.utils import class_weight\n",
    "from sklearn.experimental import enable_halving_search_cv\n",
    "\n",
    "# Model Selection and evaluation\n",
    "from sklearn.model_selection import (\n",
    "    train_test_split, \n",
    "    StratifiedKFold, \n",
    "    StratifiedShuffleSplit, \n",
    "    KFold, \n",
    "    cross_val_score, \n",
    "    cross_val_predict, \n",
    "    GridSearchCV,\n",
    "    HalvingGridSearchCV\n",
    ")\n",
    "from sklearn.metrics import accuracy_score, classification_report, confusion_matrix\n",
    "\n",
    "# Modelling \n",
    "from sklearn.linear_model import LogisticRegression\n",
    "from sklearn.decomposition import PCA\n",
    "from sklearn.feature_selection import RFE\n",
    "from tensorflow.keras.utils import to_categorical\n",
    "\n",
    "# Pipeline \n",
    "from sklearn.pipeline import Pipeline\n"
   ]
  },
  {
   "cell_type": "code",
   "execution_count": 1,
   "id": "4ed6258c-bc15-499c-acee-d2b57635cfcd",
   "metadata": {},
   "outputs": [
    {
     "ename": "NameError",
     "evalue": "name 'pd' is not defined",
     "output_type": "error",
     "traceback": [
      "\u001b[0;31m---------------------------------------------------------------------------\u001b[0m",
      "\u001b[0;31mNameError\u001b[0m                                 Traceback (most recent call last)",
      "Cell \u001b[0;32mIn[1], line 4\u001b[0m\n\u001b[1;32m      1\u001b[0m \u001b[38;5;66;03m## Loading data \u001b[39;00m\n\u001b[1;32m      2\u001b[0m \n\u001b[1;32m      3\u001b[0m \u001b[38;5;66;03m# Loading the .CSV file\u001b[39;00m\n\u001b[0;32m----> 4\u001b[0m data \u001b[38;5;241m=\u001b[39m pd\u001b[38;5;241m.\u001b[39mread_csv(\u001b[38;5;124m'\u001b[39m\u001b[38;5;124mdata.csv\u001b[39m\u001b[38;5;124m'\u001b[39m) \u001b[38;5;66;03m# Cannot be provided on github as has confidential data \u001b[39;00m\n\u001b[1;32m      6\u001b[0m \u001b[38;5;66;03m# Checking the data shape\u001b[39;00m\n\u001b[1;32m      7\u001b[0m \u001b[38;5;28mprint\u001b[39m(data\u001b[38;5;241m.\u001b[39mshape) \n",
      "\u001b[0;31mNameError\u001b[0m: name 'pd' is not defined"
     ]
    }
   ],
   "source": [
    "## Loading data \n",
    "\n",
    "# Loading the .CSV file\n",
    "data = pd.read_csv('data.csv') # Cannot be provided on github as has confidential data \n",
    "\n",
    "# Checking the data shape\n",
    "print(data.shape) \n",
    "\n",
    "# Inspecting the first few rows of the data\n",
    "print(data.head())\n",
    "\n",
    "# The data is structured with participant ID, Age, Diagnosis, MRI Field Strength, and remaining 292 columns are MRI-derived features"
   ]
  },
  {
   "cell_type": "code",
   "execution_count": 2,
   "id": "4cc26788-acf6-4343-bfae-25b1d4549655",
   "metadata": {},
   "outputs": [
    {
     "ename": "NameError",
     "evalue": "name 'data' is not defined",
     "output_type": "error",
     "traceback": [
      "\u001b[0;31m---------------------------------------------------------------------------\u001b[0m",
      "\u001b[0;31mNameError\u001b[0m                                 Traceback (most recent call last)",
      "Cell \u001b[0;32mIn[2], line 4\u001b[0m\n\u001b[1;32m      1\u001b[0m \u001b[38;5;66;03m## Preparing data \u001b[39;00m\n\u001b[1;32m      2\u001b[0m \n\u001b[1;32m      3\u001b[0m \u001b[38;5;66;03m# Dropping non-numeric variables\u001b[39;00m\n\u001b[0;32m----> 4\u001b[0m number_data \u001b[38;5;241m=\u001b[39m data\u001b[38;5;241m.\u001b[39mdrop(columns\u001b[38;5;241m=\u001b[39m[\u001b[38;5;124m'\u001b[39m\u001b[38;5;124mID\u001b[39m\u001b[38;5;124m'\u001b[39m, \u001b[38;5;124m'\u001b[39m\u001b[38;5;124mAge\u001b[39m\u001b[38;5;124m'\u001b[39m, \u001b[38;5;124m'\u001b[39m\u001b[38;5;124mDiagnosis\u001b[39m\u001b[38;5;124m'\u001b[39m, \u001b[38;5;124m'\u001b[39m\u001b[38;5;124mFieldStrength\u001b[39m\u001b[38;5;124m'\u001b[39m]) \n\u001b[1;32m      5\u001b[0m feature_names \u001b[38;5;241m=\u001b[39m number_data\u001b[38;5;241m.\u001b[39mcolumns\u001b[38;5;241m.\u001b[39mtolist()  \u001b[38;5;66;03m# Saving the variable names for later use \u001b[39;00m\n\u001b[1;32m      7\u001b[0m \u001b[38;5;66;03m# Encoding the diagnostic labels\u001b[39;00m\n",
      "\u001b[0;31mNameError\u001b[0m: name 'data' is not defined"
     ]
    }
   ],
   "source": [
    "## Preparing data \n",
    "\n",
    "# Dropping non-numeric variables\n",
    "number_data = data.drop(columns=['ID', 'Age', 'Diagnosis', 'FieldStrength']) \n",
    "feature_names = number_data.columns.tolist()  # Saving the variable names for later use \n",
    "\n",
    "# Encoding the diagnostic labels\n",
    "label_encoder = LabelEncoder()\n",
    "y_encoded = label_encoder.fit_transform(data['Diagnosis'])\n"
   ]
  },
  {
   "cell_type": "code",
   "execution_count": 3,
   "id": "b326dedf-879c-462b-bc31-caf930be63fb",
   "metadata": {},
   "outputs": [
    {
     "ename": "NameError",
     "evalue": "name 'number_data' is not defined",
     "output_type": "error",
     "traceback": [
      "\u001b[0;31m---------------------------------------------------------------------------\u001b[0m",
      "\u001b[0;31mNameError\u001b[0m                                 Traceback (most recent call last)",
      "Cell \u001b[0;32mIn[3], line 3\u001b[0m\n\u001b[1;32m      1\u001b[0m \u001b[38;5;66;03m## Exploratory data analysis\u001b[39;00m\n\u001b[1;32m      2\u001b[0m \u001b[38;5;66;03m# Compute the correlation matrix\u001b[39;00m\n\u001b[0;32m----> 3\u001b[0m corr_matrix \u001b[38;5;241m=\u001b[39m number_data\u001b[38;5;241m.\u001b[39mcorr()\n\u001b[1;32m      5\u001b[0m \u001b[38;5;66;03m# Plot the correlation matrix using a heatmap\u001b[39;00m\n\u001b[1;32m      6\u001b[0m plt\u001b[38;5;241m.\u001b[39mfigure(figsize\u001b[38;5;241m=\u001b[39m(\u001b[38;5;241m20\u001b[39m, \u001b[38;5;241m15\u001b[39m))\n",
      "\u001b[0;31mNameError\u001b[0m: name 'number_data' is not defined"
     ]
    }
   ],
   "source": [
    "## Exploratory data analysis\n",
    "# Compute the correlation matrix\n",
    "corr_matrix = number_data.corr()\n",
    "\n",
    "# Plot the correlation matrix using a heatmap\n",
    "plt.figure(figsize=(20, 15))\n",
    "sns.heatmap(corr_matrix, annot=False, cmap='coolwarm', fmt=\".2f\", linewidths=0.5)\n",
    "plt.title('Correlation Heatmap')\n",
    "plt.show()\n",
    "\n",
    "# Correlation matrix shows most of our MRI features are correlated except the asymmetry features. This suggests we should be aware of \n",
    "# multicolinearity with our highly correlated features. "
   ]
  },
  {
   "cell_type": "code",
   "execution_count": null,
   "id": "9ad3db8a-7119-4009-8f47-1bc66f2b959f",
   "metadata": {},
   "outputs": [],
   "source": [
    "## Splitting the dataset into training (80%) and testing (20%) sets to evaluate the model performance on unseen data \n",
    "sss = StratifiedShuffleSplit(n_splits=1, test_size=0.2, random_state=42)\n",
    "\n",
    "# Generating the training/testing splits\n",
    "for train_index, test_index in sss.split(number_data, y_encoded):\n",
    "    X_train, X_test = number_data.iloc[train_index], number_data.iloc[test_index]\n",
    "    y_train, y_test = y_encoded[train_index], y_encoded[test_index]"
   ]
  },
  {
   "cell_type": "code",
   "execution_count": null,
   "id": "ddf73a23-8849-4ae9-8d10-8814a2c0a9a2",
   "metadata": {},
   "outputs": [],
   "source": [
    "## Logistic Regression\n",
    "\n",
    "# Proposed pipeline: \n",
    "# Scaling -> Dimensionality Reduction (PCA) -> Feature Selection (RFE) -> Regularisation (L2) -> Cross Validation (k = 5) -> Model Evaluation \n",
    "\n",
    "# (Logistic regression is not optimal for the classification of MRI features due to nonlinearly separable classes, but is being used here to show\n",
    "# an example of code structure)"
   ]
  },
  {
   "cell_type": "code",
   "execution_count": null,
   "id": "8f9ce623-eaa7-4943-ad2d-7f4b60c1771e",
   "metadata": {},
   "outputs": [],
   "source": [
    "## Proposed pipeline\n",
    "\n",
    "# Dimensionality Reduction using PCA with visual analysis of optimal component number first \n",
    "scaler = StandardScaler()                      # Scaling the data with StandardScaler()\n",
    "X_train_scaled = scaler.fit_transform(X_train)\n",
    "X_test_scaled = scaler.transform(X_test)\n",
    "pca = PCA()\n",
    "X_train_pca = pca.fit_transform(X_train_scaled)      # Fitting PCA\n",
    "X_test_pca = pca.transform(X_test_scaled)\n",
    "\n",
    "# Visualising the explained variance\n",
    "explained_var = pca.explained_variance_ratio_\n",
    "\n",
    "# Plotting explained variance and cumulative explained variance\n",
    "# Explained variance with red\n",
    "fig, ax = plt.subplots(figsize=(10, 5))\n",
    "ax.plot(explained_var, 'r')\n",
    "ax.set_title('Explained Variance by Principal Components', fontsize=20)\n",
    "ax.set_xlabel('Number of Principal Components', fontsize=14)\n",
    "ax.set_ylabel(\"Explained Variance\", color='r', fontsize=14)\n",
    "\n",
    "# Plot cumulative explained variance\n",
    "ax2 = ax.twinx()\n",
    "ax2.plot(np.cumsum(explained_var), 'b')\n",
    "ax2.set_ylabel('Cumulative Explained Variance', color='b', fontsize=14)\n",
    "\n",
    "plt.show()\n",
    "\n",
    "# Visual inspection of plotting explained variance against cumulative explained variance shows that the optimal number of components \n",
    "# should be under 5. However, with MRI data using more components can retain critical features and improve classifier performance, at the\n",
    "# cost of potential overfitting or redundancy. So we will use a gridsearch to optimise the number of components for accuracy. "
   ]
  },
  {
   "cell_type": "code",
   "execution_count": null,
   "id": "7aa46eda-a6ed-4c9c-ae3a-a635e27f7a92",
   "metadata": {},
   "outputs": [],
   "source": [
    "## Running Pipeline with HalvingGridSearchCV (performed on spyder)\n",
    "\n",
    "# The HalvingGridSearchCV will provide the optimal parameters for increasing model performance, whilst iteratively narrowing down \n",
    "# the hyperparameter space. \n",
    "# In the best circumstances, we would use a normal GridSearchCV and test all the possible parameters, but we cannot do this due to \n",
    "# resource management and efficiency.\n",
    "\n",
    "# Defining the Logistic Regression model with ridge regularisation \n",
    "LRmodel = LogisticRegression(class_weight='balanced', max_iter=1000, random_state=42, penalty='l2') \n",
    "# Class weight is balanced due to unbalanced weighting of diagnosis in data\n",
    "# L2 penalty applied to control overfitting, improve generalization, stabilise coefficient estimates and manage multicollinearity\n",
    "# L1 was not applied as it is less stable with multicollinearity and MRI features are often highly correlated \n",
    "\n",
    "# Defining the parameter grid for GridSearchCV including scaler options, PCA component numbers and RFE feature selection\n",
    "LRparam_grid = {\n",
    "    'scaler': [StandardScaler(), MinMaxScaler(), RobustScaler()], # Options for scalers \n",
    "    'pca__n_components': range(1, 292),                           # Range for PCA component selection to reflect the number of MRI features\n",
    "    'rfe__n_features_to_select': range(1, 292)                    # Range for Feature selection chosen to reflect the number of MRI features\n",
    "}                                                                  \n",
    "\n",
    "# Create a pipeline that includes PCA and RFE\n",
    "LRpipeline = Pipeline([\n",
    "    ('scaler', 'passthrough'),  # Passthrough acts as a placeholder for scaler evaluation \n",
    "    ('pca', PCA()),             # PCA dimensionality reduction \n",
    "    ('rfe', RFE(LRmodel)),      # RFE feature selection \n",
    "    ('classifier', LRmodel)     # Logistic regression classification model \n",
    "])\n",
    "\n",
    "# Setting up HalvingGridSearchCV with cross-validation \n",
    "LRgrid_search = HalvingGridSearchCV(\n",
    "    LRpipeline,\n",
    "    param_grid=LRparam_grid,\n",
    "    scoring='accuracy',         # Provides the accuracy of each tested model\n",
    "    cv=5,                       # Number of cross-validation folds included \n",
    "    n_jobs=5,                   # Perform multiple jobs at once \n",
    "    verbose=10                  # Provides progress updates\n",
    ")\n",
    "\n",
    "# Fitting the GridSearchCV to our training data\n",
    "LRgrid_search.fit(X_train, y_train)\n",
    "\n",
    "# Best parameters and cross-validated accuracy taken from the GridSearchCV\n",
    "LRbest_params = LRgrid_search.best_params_\n",
    "LRbest_accuracy = LRgrid_search.best_score_\n",
    "\n",
    "print(f'Best parameters: {LRbest_params}')\n",
    "print(f'Best cross-validated accuracy: {LRbest_accuracy:}') \n",
    "\n",
    "# Final model training with the best parameters \n",
    "LRbest_model = LRgrid_search.best_estimator_\n",
    "\n",
    "# Making predictions on the test set\n",
    "y_pred = LRbest_model.predict(X_test)\n",
    "\n",
    "# Confusion Matrix to present the accuracy \n",
    "cm = confusion_matrix(y_test, y_pred)\n",
    "plt.figure(figsize=(10, 7))\n",
    "sns.heatmap(cm, annot=True, fmt='d', cmap='hot', xticklabels=label_encoder.classes_, yticklabels=label_encoder.classes_)\n",
    "plt.title('Confusion Matrix')\n",
    "plt.xlabel('Predicted Label')\n",
    "plt.ylabel('True Label')\n",
    "plt.show()\n",
    "# Diagonal cells should all be closest to white/yellow for the best classification of true labels. \n",
    "\n",
    "# Classification Report for easy interpretation of model evaluation alongside grid search \n",
    "print(classification_report(y_test, y_pred, target_names=label_encoder.classes_))\n",
    "\n",
    "# Output results\n",
    "# Best parameters: {'pca__n_components': 47, 'rfe__n_features_to_select': 153, 'scaler': RobustScaler()}\n",
    "# Best cross-validated accuracy: 0.5409554482018251\n",
    "#               precision    recall  f1-score   support\n",
    "\n",
    "#           AD       0.49      0.71      0.58        52\n",
    "#           CN       0.46      0.63      0.53        79\n",
    "#          MCI       0.57      0.34      0.43       137\n",
    "\n",
    "#     accuracy                           0.50       268\n",
    "#    macro avg       0.50      0.56      0.51       268\n",
    "# weighted avg       0.52      0.50      0.49       268"
   ]
  }
 ],
 "metadata": {
  "kernelspec": {
   "display_name": "Python 3 (ipykernel)",
   "language": "python",
   "name": "python3"
  },
  "language_info": {
   "codemirror_mode": {
    "name": "ipython",
    "version": 3
   },
   "file_extension": ".py",
   "mimetype": "text/x-python",
   "name": "python",
   "nbconvert_exporter": "python",
   "pygments_lexer": "ipython3",
   "version": "3.12.2"
  }
 },
 "nbformat": 4,
 "nbformat_minor": 5
}
